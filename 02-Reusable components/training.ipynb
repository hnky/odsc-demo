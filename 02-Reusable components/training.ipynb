{
 "cells": [
  {
   "attachments": {},
   "cell_type": "markdown",
   "metadata": {},
   "source": [
    "# Training on scale"
   ]
  },
  {
   "attachments": {},
   "cell_type": "markdown",
   "metadata": {},
   "source": [
    "### Create an environment"
   ]
  },
  {
   "cell_type": "code",
   "execution_count": 2,
   "metadata": {},
   "outputs": [
    {
     "name": "stdout",
     "output_type": "stream",
     "text": [
      "Overwriting Environments/create-environment.yml\n"
     ]
    }
   ],
   "source": [
    "%%writefile 'Environments/create-environment.yml'\n",
    "$schema: https://azuremlschemas.azureedge.net/latest/environment.schema.json\n",
    "name: odsc-transferlearning-pytorch\n",
    "version: 1\n",
    "image: mcr.microsoft.com/azureml/curated/pytorch-1.10-ubuntu18.04-py38-cuda11-gpu:36\n",
    "description: Training enviroment PyTorch 1.10 / CUDA 11 / GPU"
   ]
  },
  {
   "cell_type": "code",
   "execution_count": 3,
   "metadata": {},
   "outputs": [
    {
     "name": "stdout",
     "output_type": "stream",
     "text": [
      "/bin/bash: az: command not found\n",
      "/bin/bash: az: command not found\n",
      "/bin/bash: az: command not found\n"
     ]
    }
   ],
   "source": [
    "!az config set defaults.workspace=\"Cybertron\"\n",
    "!az config set defaults.group=\"Cybertron-rg\"     \n",
    "!az ml environment create --file Environments/create-environment.yml"
   ]
  },
  {
   "attachments": {},
   "cell_type": "markdown",
   "metadata": {},
   "source": [
    "### Create train component"
   ]
  },
  {
   "cell_type": "code",
   "execution_count": null,
   "metadata": {},
   "outputs": [],
   "source": [
    "%%writefile 'Components/train.yml'\n",
    "$schema: https://azuremlschemas.azureedge.net/latest/commandComponent.schema.json\n",
    "type: command\n",
    "\n",
    "name: odsc_train_model\n",
    "display_name: ODSC - Train model\n",
    "version: 1\n",
    "\n",
    "inputs:\n",
    "  training_data:\n",
    "    type: path\n",
    "  epochs:\n",
    "    type: integer\n",
    "    default: 8\n",
    "  learning_rate:\n",
    "    type: number\n",
    "    default: 0.001\n",
    "  momentum: \n",
    "    type: number\n",
    "    default: 0.9\n",
    "  tag: \n",
    "    type: string\n",
    "    default: \"Ignite\"\n",
    "\n",
    "outputs:\n",
    "  train_output:\n",
    "    type: path\n",
    "\n",
    "code: ./src\n",
    "\n",
    "environment: azureml:odsc-transferlearning-pytorch:1\n",
    "\n",
    "command: python train.py --data_path ${{inputs.training_data}} --model_output_path ${{outputs.train_output}} --num_epochs ${{inputs.epochs}} --learning_rate ${{inputs.learning_rate}} --momentum ${{inputs.momentum}} --tag ${{inputs.tag}} "
   ]
  },
  {
   "cell_type": "code",
   "execution_count": null,
   "metadata": {},
   "outputs": [],
   "source": [
    "!az ml component create --file Components/train.yml"
   ]
  },
  {
   "cell_type": "code",
   "execution_count": null,
   "metadata": {},
   "outputs": [],
   "source": [
    "%%writefile 'Components/register.yml'\n",
    "$schema: https://azuremlschemas.azureedge.net/latest/commandComponent.schema.json\n",
    "type: command\n",
    "\n",
    "name: odsc_register_model\n",
    "display_name: ODSC - Register model after run\n",
    "version: 1\n",
    "\n",
    "inputs:\n",
    "  model_assets_path:\n",
    "    type: path\n",
    "  model_name:\n",
    "    type: string\n",
    "    default: \"simpsons-classification\"\n",
    "  model_file_name:\n",
    "    type: string\n",
    "    default: \"model.pth\"\n",
    "  label_file_name:\n",
    "    type: string\n",
    "    default: \"labels.txt\" \n",
    "\n",
    "code: ./src\n",
    "\n",
    "environment: azureml:odsc-transferlearning-pytorch:1\n",
    "\n",
    "command: python register.py --model_assets_path ${{inputs.model_assets_path}} --model_name ${{inputs.model_name}} --model_file_name ${{inputs.model_file_name}} --label_file_name ${{inputs.label_file_name}}"
   ]
  },
  {
   "cell_type": "code",
   "execution_count": null,
   "metadata": {},
   "outputs": [],
   "source": [
    "!az ml component create --file Components/register.yml"
   ]
  },
  {
   "attachments": {},
   "cell_type": "markdown",
   "metadata": {},
   "source": [
    "## Create the pipeline"
   ]
  },
  {
   "cell_type": "code",
   "execution_count": null,
   "metadata": {},
   "outputs": [],
   "source": [
    "%%writefile 'Pipeline/trainings_pipeline.yml'\n",
    "$schema: https://azuremlschemas.azureedge.net/latest/pipelineJob.schema.json\n",
    "type: pipeline\n",
    "experiment_name: ODSC-Pipeline\n",
    "description: Pipeline to create a Lego Classifier in PyTorch\n",
    "display_name: ODSC - Pipeline - Test\n",
    "\n",
    "settings:\n",
    "  default_datastore: azureml:workspaceartifactstore\n",
    "  default_compute: azureml:UltraMagnus\n",
    "\n",
    "inputs:\n",
    "  training_data:\n",
    "    mode: ro_mount\n",
    "    path: azureml:LegoCharactersV2:2\n",
    "\n",
    "jobs:\n",
    "  train_model:\n",
    "    type: command\n",
    "    component: azureml:odsc_train_model:1\n",
    "    inputs:\n",
    "      training_data: ${{parent.inputs.training_data}}\n",
    "      epochs: 8\n",
    "      tag: \"TEST1\"\n",
    "    outputs:\n",
    "      train_output: \n",
    "        mode: upload\n",
    "      \n",
    "  register_pytorch:\n",
    "    type: command\n",
    "    component: azureml:odsc_register_model:1\n",
    "    inputs:\n",
    "      model_assets_path: ${{parent.jobs.train_model.outputs.train_output}}\n",
    "      model_name: \"odsc-lego-pytorch\"\n",
    "      model_file_name: \"model.pth\""
   ]
  },
  {
   "cell_type": "code",
   "execution_count": null,
   "metadata": {},
   "outputs": [],
   "source": [
    "!az ml job create --file Pipeline/trainings_pipeline.yml"
   ]
  },
  {
   "attachments": {},
   "cell_type": "markdown",
   "metadata": {},
   "source": [
    "### Deploy the model"
   ]
  },
  {
   "cell_type": "code",
   "execution_count": null,
   "metadata": {},
   "outputs": [],
   "source": [
    "%%writefile 'Deployment/deployment.yml'\n",
    "$schema: https://azuremlschemas.azureedge.net/latest/managedOnlineDeployment.schema.json\n",
    "endpoint_name: odsc-lego-endpoint-test\n",
    "name: pipeline-lego-pytorch-1-v2\n",
    "app_insights_enabled: true\n",
    "model: azureml:pipeline-lego-pytorch:1\n",
    "code_configuration:\n",
    "  code: ./\n",
    "  scoring_script: score.py\n",
    "environment: azureml:AzureML-pytorch-1.7-ubuntu18.04-py37-cpu-inference:32\n",
    "instance_type: Standard_F8s_v2\n",
    "instance_count: 1"
   ]
  },
  {
   "cell_type": "code",
   "execution_count": null,
   "metadata": {},
   "outputs": [],
   "source": [
    "!az ml online-deployment create --file Deployment/deployment.yml"
   ]
  },
  {
   "cell_type": "code",
   "execution_count": null,
   "metadata": {},
   "outputs": [],
   "source": [
    "%%writefile 'test-images.txt'\n",
    "https://raw.githubusercontent.com/hnky/dataset-lego-figures/master/_test/Krusty.jpg\n",
    "https://raw.githubusercontent.com/hnky/dataset-lego-figures/master/_test/Flanders.jpg\n",
    "https://raw.githubusercontent.com/hnky/dataset-lego-figures/master/_test/Homer.jpg\n",
    "https://raw.githubusercontent.com/hnky/dataset-lego-figures/master/_test/Lisa.jpg\n",
    "https://raw.githubusercontent.com/hnky/dataset-lego-figures/master/_test/MrBurns.jpg\n",
    "https://raw.githubusercontent.com/hnky/dataset-lego-figures/master/_test/Wiggum.jpg\n",
    "https://raw.githubusercontent.com/hnky/dataset-lego-figures/master/_test/wonderwomen.jpg\n",
    "https://raw.githubusercontent.com/hnky/dataset-lego-figures/master/_test/Emperor-Palpatine.jpg\n",
    "https://raw.githubusercontent.com/hnky/dataset-lego-figures/master/_test/Jar-Jar-Binks.jpg\n",
    "https://raw.githubusercontent.com/hnky/dataset-lego-figures/master/_test/Kit-Fisto.jpg\n",
    "https://raw.githubusercontent.com/hnky/dataset-lego-figures/master/_test/Yoda.jpg\n",
    "https://raw.githubusercontent.com/hnky/dataset-lego-figures/master/_test/bat-mite.jpg\n",
    "https://raw.githubusercontent.com/hnky/dataset-lego-figures/master/_test/batman.jpg\n",
    "https://raw.githubusercontent.com/hnky/dataset-lego-figures/master/_test/cheetah.jpg\n",
    "https://raw.githubusercontent.com/hnky/dataset-lego-figures/master/_test/stargirl.jpg\n",
    "https://raw.githubusercontent.com/hnky/dataset-lego-figures/master/_test/wonderwomen.jpg"
   ]
  },
  {
   "cell_type": "code",
   "execution_count": null,
   "metadata": {},
   "outputs": [],
   "source": [
    "# Handle to the workspace\n",
    "from azure.ai.ml import MLClient\n",
    "from azure.ai.ml import command, Input, Output\n",
    "from azure.ai.ml.entities import Environment\n",
    "from azure.ai.ml.entities import Data, Model\n",
    "from azure.ai.ml.constants import AssetTypes\n",
    "\n",
    "# Authentication package\n",
    "from azure.identity import DefaultAzureCredential\n",
    "\n",
    "credential = DefaultAzureCredential()\n",
    "\n",
    "ml_client = MLClient(\n",
    "    credential=credential,\n",
    "    subscription_id = \"431dbae5-40ca-438a-8daf-77d7d5580b41\",\n",
    "    resource_group_name = \"Cybertron-RG\",\n",
    "    workspace_name = \"Cybertron\",\n",
    ")\n",
    "\n",
    "endpnt = ml_client.online_endpoints.get(\"lego-endpoint-test\")"
   ]
  },
  {
   "cell_type": "code",
   "execution_count": null,
   "metadata": {},
   "outputs": [],
   "source": [
    "import matplotlib.pyplot as plt\n",
    "from mpl_toolkits.axes_grid1 import AxesGrid\n",
    "import cv2\n",
    "import urllib\n",
    "import cv2\n",
    "import numpy as np\n",
    "import json\n",
    "import urllib.request\n",
    "import json\n",
    "\n",
    "\n",
    "F = plt.figure(1, (20,20))\n",
    "grid = AxesGrid(F, 111, nrows_ncols=(3, 4), axes_pad=0, label_mode=\"1\")\n",
    "\n",
    "with open('test-images.txt', 'rt') as lf:\n",
    "    global testimages\n",
    "    testimages = [l.strip() for l in lf.readlines()]\n",
    "    \n",
    "def url_to_image(url):\n",
    "    with urllib.request.urlopen(url) as url:\n",
    "        s = url.read()\n",
    "    image = np.asarray(bytearray(s), dtype=\"uint8\")\n",
    "    image = cv2.imdecode(image, cv2.IMREAD_COLOR)\n",
    "    image = cv2.resize(image, (352, 352))\n",
    "    image = cv2.cvtColor(image, cv2.COLOR_BGR2RGB)\n",
    "    return image\n",
    "\n",
    "\n",
    "i = 0\n",
    "for img_name in testimages[0:12]:\n",
    "    \n",
    "    data = { \"image\":img_name }\n",
    "\n",
    "    body = str.encode(json.dumps(data))\n",
    "    url = 'https://lego-endpoint-test.westeurope.inference.ml.azure.com/score'\n",
    "    api_key = 'yRPzrB3YLC9FkKaki1Mu6RTFkQUMVedW'\n",
    "\n",
    "    headers = {'Content-Type':'application/json', 'Authorization':('Bearer '+ api_key) }\n",
    "    req = urllib.request.Request(url, body, headers)\n",
    "    response = urllib.request.urlopen(req)\n",
    "    JSON_object = json.loads(response.read())\n",
    "\n",
    "    # Download image\n",
    "    img = url_to_image(img_name)\n",
    " \n",
    "    # Draw result on image\n",
    "    cv2.rectangle(img, (0,260),(352,352),(255,255,255), -1)\n",
    "    cv2.putText(img, \"{} - {}%\".format(JSON_object['prediction'],JSON_object['scores'][JSON_object['prediction']]),(10, 300), cv2.FONT_HERSHEY_SIMPLEX, 0.5,(0,0,0),2,cv2.LINE_AA)\n",
    "\n",
    "    # Show image in grid\n",
    "    grid[i].imshow(img)\n",
    "    i = i+1"
   ]
  }
 ],
 "metadata": {
  "kernelspec": {
   "display_name": "Python 3",
   "language": "python",
   "name": "python3"
  },
  "language_info": {
   "codemirror_mode": {
    "name": "ipython",
    "version": 3
   },
   "file_extension": ".py",
   "mimetype": "text/x-python",
   "name": "python",
   "nbconvert_exporter": "python",
   "pygments_lexer": "ipython3",
   "version": "3.10.4"
  },
  "orig_nbformat": 4
 },
 "nbformat": 4,
 "nbformat_minor": 2
}
